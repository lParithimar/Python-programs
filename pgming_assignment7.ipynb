{
 "cells": [
  {
   "cell_type": "code",
   "execution_count": 1,
   "id": "b33f1ec2",
   "metadata": {},
   "outputs": [
    {
     "name": "stdout",
     "output_type": "stream",
     "text": [
      "15\n"
     ]
    }
   ],
   "source": [
    "import array as arr\n",
    "\n",
    "a=arr.array('i',[1,2,3,4,5])\n",
    "print(sum(a))"
   ]
  },
  {
   "cell_type": "code",
   "execution_count": 2,
   "id": "a8b4272a",
   "metadata": {},
   "outputs": [
    {
     "name": "stdout",
     "output_type": "stream",
     "text": [
      "5\n"
     ]
    }
   ],
   "source": [
    "print(max(a))"
   ]
  },
  {
   "cell_type": "code",
   "execution_count": 3,
   "id": "6028cd0c",
   "metadata": {},
   "outputs": [
    {
     "name": "stdout",
     "output_type": "stream",
     "text": [
      "a= array('i', [2, 3, 4, 5, 1])\n"
     ]
    }
   ],
   "source": [
    "t=a[0]\n",
    "a=a[1:]\n",
    "a.append(t)\n",
    "\n",
    "print(\"a=\",a)\n"
   ]
  },
  {
   "cell_type": "code",
   "execution_count": 4,
   "id": "946fe28f",
   "metadata": {},
   "outputs": [
    {
     "name": "stdout",
     "output_type": "stream",
     "text": [
      "b= array('i', [3, 4, 5, 1, 2])\n"
     ]
    }
   ],
   "source": [
    "a=arr.array('i',[1,2,3,4,5])\n",
    "n=int(len(a)/2)\n",
    "l=a[n::1]\n",
    "b=arr.array('i',l)\n",
    "b.extend(a[0:n])\n",
    "print('b=',b)"
   ]
  },
  {
   "cell_type": "code",
   "execution_count": 5,
   "id": "09c7c404",
   "metadata": {},
   "outputs": [
    {
     "name": "stdout",
     "output_type": "stream",
     "text": [
      "False\n"
     ]
    }
   ],
   "source": [
    "a=arr.array('i',[7,6,5,4,11,2,1])\n",
    "monotonic=True\n",
    "if a[0]<a[1]:\n",
    "    for i in range(0,len(a)):\n",
    "        if monotonic==False:\n",
    "            break\n",
    "        for j in range(i+1,len(a)):\n",
    "            if a[i]>a[j]:\n",
    "                monotonic=False\n",
    "                break\n",
    "            else:\n",
    "                monotonic=True\n",
    "    print(monotonic)\n",
    "\n",
    "elif a[0]>a[1]:\n",
    "    for i in range(0,len(a)):\n",
    "        if monotonic==False:\n",
    "            break\n",
    "        for j in range(i+1,len(a)):\n",
    "            if a[i]<a[j]:\n",
    "                monotonic=False\n",
    "                break\n",
    "            else:\n",
    "                monotonic=True\n",
    "    print(monotonic)\n"
   ]
  },
  {
   "cell_type": "code",
   "execution_count": null,
   "id": "8d0610a2",
   "metadata": {},
   "outputs": [],
   "source": []
  }
 ],
 "metadata": {
  "kernelspec": {
   "display_name": "Python 3 (ipykernel)",
   "language": "python",
   "name": "python3"
  },
  "language_info": {
   "codemirror_mode": {
    "name": "ipython",
    "version": 3
   },
   "file_extension": ".py",
   "mimetype": "text/x-python",
   "name": "python",
   "nbconvert_exporter": "python",
   "pygments_lexer": "ipython3",
   "version": "3.9.13"
  }
 },
 "nbformat": 4,
 "nbformat_minor": 5
}
