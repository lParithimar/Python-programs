{
 "cells": [
  {
   "cell_type": "code",
   "execution_count": 4,
   "id": "6b657cc5",
   "metadata": {},
   "outputs": [
    {
     "name": "stdout",
     "output_type": "stream",
     "text": [
      "Enter ktom to convert kilometer to mile or mtok to convert miles to kilometer [q to quit]ktomty\n",
      "Enter ktom to convert kilometer to mile or mtok to convert miles to kilometer [q to quit]ktom\n",
      "Enter kilometers to convert equivalent miles200\n",
      "200 kilometer and equivalent miles are 300.0\n",
      "Enter ktom to convert kilometer to mile or mtok to convert miles to kilometer [q to quit]q\n"
     ]
    }
   ],
   "source": [
    "\n",
    "#1.convert kilometers to Miles\n",
    "\n",
    "class DistanceConversion:\n",
    "    def calculate(self):\n",
    "\n",
    "        while True:\n",
    "            choice = input(\"Enter ktom to convert kilometer to mile or mtok to convert miles to kilometer [q to quit]\")\n",
    "            if choice.lower() == 'q':\n",
    "                break\n",
    "\n",
    "            elif choice.lower() == 'ktom':\n",
    "                while True:\n",
    "                    kilo = input(\"Enter kilometers to convert equivalent miles\")\n",
    "                    if kilo.isnumeric():\n",
    "                        miles = self.k_2_m(float(kilo))\n",
    "                        print(f\"{kilo} kilometer and equivalent miles are {miles}\")\n",
    "                        break\n",
    "                    else:\n",
    "                        pass\n",
    "\n",
    "            elif choice.lower() == 'mtok':\n",
    "                while True:\n",
    "                    miles = input(\"Enter miles to convert to equivalent kilometers\")\n",
    "                    if miles.isnumeric():\n",
    "                        kilo = self.m_2_k(float(miles))\n",
    "                        print(f\"{miles} miles and equivalent kilometers are {kilo}\")\n",
    "                        break\n",
    "                    else:\n",
    "                        pass\n",
    "            else:\n",
    "                pass\n",
    "\n",
    "    def k_2_m(self, kilo):\n",
    "        m = 1.5 * kilo\n",
    "        return m\n",
    "\n",
    "    def m_2_k(self, miles):\n",
    "        kilo = miles/1.5\n",
    "        return kilo\n",
    "\n",
    "k = DistanceConversion()\n",
    "k.calculate()\n",
    "\n",
    "\n",
    "\n",
    "\n",
    "\n",
    "\n",
    "\n",
    "\n",
    "\n",
    "\n",
    "\n",
    "\n"
   ]
  },
  {
   "cell_type": "code",
   "execution_count": 2,
   "id": "ba8f7511",
   "metadata": {},
   "outputs": [
    {
     "name": "stdout",
     "output_type": "stream",
     "text": [
      "Enetr celcius to convert23\n",
      "celcius is 23.0 and equivalent farenheit is 73.4\n"
     ]
    }
   ],
   "source": [
    "#2 celcius to Farenheit conversion\n",
    "try:\n",
    "    cel=input(\"Enetr celcius to convert\")\n",
    "    cel=float(cel)\n",
    "    faren=cel*(9/5)+32\n",
    "    print(f\"celcius is {cel} and equivalent farenheit is {faren}\")\n",
    "except Exception as e:\n",
    "    print(e)\n"
   ]
  },
  {
   "cell_type": "code",
   "execution_count": 5,
   "id": "70158125",
   "metadata": {},
   "outputs": [
    {
     "name": "stdout",
     "output_type": "stream",
     "text": [
      "Enter the year to display the calendar2023\n",
      "                                  2023\n",
      "\n",
      "      January                   February                   March\n",
      "Mo Tu We Th Fr Sa Su      Mo Tu We Th Fr Sa Su      Mo Tu We Th Fr Sa Su\n",
      "                   1             1  2  3  4  5             1  2  3  4  5\n",
      " 2  3  4  5  6  7  8       6  7  8  9 10 11 12       6  7  8  9 10 11 12\n",
      " 9 10 11 12 13 14 15      13 14 15 16 17 18 19      13 14 15 16 17 18 19\n",
      "16 17 18 19 20 21 22      20 21 22 23 24 25 26      20 21 22 23 24 25 26\n",
      "23 24 25 26 27 28 29      27 28                     27 28 29 30 31\n",
      "30 31\n",
      "\n",
      "       April                      May                       June\n",
      "Mo Tu We Th Fr Sa Su      Mo Tu We Th Fr Sa Su      Mo Tu We Th Fr Sa Su\n",
      "                1  2       1  2  3  4  5  6  7                1  2  3  4\n",
      " 3  4  5  6  7  8  9       8  9 10 11 12 13 14       5  6  7  8  9 10 11\n",
      "10 11 12 13 14 15 16      15 16 17 18 19 20 21      12 13 14 15 16 17 18\n",
      "17 18 19 20 21 22 23      22 23 24 25 26 27 28      19 20 21 22 23 24 25\n",
      "24 25 26 27 28 29 30      29 30 31                  26 27 28 29 30\n",
      "\n",
      "        July                     August                  September\n",
      "Mo Tu We Th Fr Sa Su      Mo Tu We Th Fr Sa Su      Mo Tu We Th Fr Sa Su\n",
      "                1  2          1  2  3  4  5  6                   1  2  3\n",
      " 3  4  5  6  7  8  9       7  8  9 10 11 12 13       4  5  6  7  8  9 10\n",
      "10 11 12 13 14 15 16      14 15 16 17 18 19 20      11 12 13 14 15 16 17\n",
      "17 18 19 20 21 22 23      21 22 23 24 25 26 27      18 19 20 21 22 23 24\n",
      "24 25 26 27 28 29 30      28 29 30 31               25 26 27 28 29 30\n",
      "31\n",
      "\n",
      "      October                   November                  December\n",
      "Mo Tu We Th Fr Sa Su      Mo Tu We Th Fr Sa Su      Mo Tu We Th Fr Sa Su\n",
      "                   1             1  2  3  4  5                   1  2  3\n",
      " 2  3  4  5  6  7  8       6  7  8  9 10 11 12       4  5  6  7  8  9 10\n",
      " 9 10 11 12 13 14 15      13 14 15 16 17 18 19      11 12 13 14 15 16 17\n",
      "16 17 18 19 20 21 22      20 21 22 23 24 25 26      18 19 20 21 22 23 24\n",
      "23 24 25 26 27 28 29      27 28 29 30               25 26 27 28 29 30 31\n",
      "30 31\n",
      "\n"
     ]
    }
   ],
   "source": [
    "#3  Program to display the calendar\n",
    "\n",
    "import calendar\n",
    "\n",
    "year = input(\"Enter the year to display the calendar\")\n",
    "year = int(year)\n",
    "print(calendar.calendar(year))\n"
   ]
  },
  {
   "cell_type": "code",
   "execution_count": 7,
   "id": "fc3be965",
   "metadata": {},
   "outputs": [
    {
     "name": "stdout",
     "output_type": "stream",
     "text": [
      "Enter a value10\n",
      "Enter b value200\n",
      "Enetr c value30\n",
      "The solutions are -0.15114219820389535 and -19.848857801796107\n"
     ]
    }
   ],
   "source": [
    "#4. Quadratic equation solution\n",
    "\n",
    "import math\n",
    "\n",
    "a=input(\"Enter a value\")\n",
    "b=input(\"Enter b value\")\n",
    "c=input(\"Enetr c value\")\n",
    "a=float(a)\n",
    "b=float(b)\n",
    "c=float(c)\n",
    "val=(b**2)-(4*a*c)\n",
    "if val>0:\n",
    "    sol1=(-b+math.sqrt(val))/(2*a)\n",
    "    sol2=(-b-math.sqrt(val))/(2*a)\n",
    "    print(f\"The solutions are {sol1} and {sol2}\")\n",
    "else:\n",
    "    print(f\"we can not find the square root for negative value so no solution exists for the given values of a={a},b={b} and c={c}\")\n"
   ]
  },
  {
   "cell_type": "code",
   "execution_count": 8,
   "id": "294d7900",
   "metadata": {},
   "outputs": [
    {
     "name": "stdout",
     "output_type": "stream",
     "text": [
      "Enter first number20\n",
      "Enter second number40\n",
      "before swap number1=20 and number2=40\n",
      "After swap number1=40 and number2=20\n"
     ]
    }
   ],
   "source": [
    "#5.To swap two numbers without temporary variable\n",
    "\n",
    "number1=input(\"Enter first number\")\n",
    "number2=input(\"Enter second number\")\n",
    "number1=int(number1)\n",
    "number2=int(number2)\n",
    "\n",
    "print(f\"before swap number1={number1} and number2={number2}\")\n",
    "\n",
    "number1,number2=number2,number1\n",
    "\n",
    "print(f\"After swap number1={number1} and number2={number2}\")\n",
    "\n"
   ]
  },
  {
   "cell_type": "code",
   "execution_count": null,
   "id": "b991a37c",
   "metadata": {},
   "outputs": [],
   "source": []
  }
 ],
 "metadata": {
  "kernelspec": {
   "display_name": "Python 3 (ipykernel)",
   "language": "python",
   "name": "python3"
  },
  "language_info": {
   "codemirror_mode": {
    "name": "ipython",
    "version": 3
   },
   "file_extension": ".py",
   "mimetype": "text/x-python",
   "name": "python",
   "nbconvert_exporter": "python",
   "pygments_lexer": "ipython3",
   "version": "3.9.13"
  }
 },
 "nbformat": 4,
 "nbformat_minor": 5
}
