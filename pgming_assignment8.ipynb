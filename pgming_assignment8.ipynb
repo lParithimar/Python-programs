{
 "cells": [
  {
   "cell_type": "code",
   "execution_count": 20,
   "metadata": {},
   "outputs": [],
   "source": [
    "##Write a Python Program to Add Two Matrices?"
   ]
  },
  {
   "cell_type": "code",
   "execution_count": 34,
   "metadata": {},
   "outputs": [
    {
     "data": {
      "text/plain": [
       "matrix([[ 8, 17,  6,  6,  9, 18],\n",
       "        [ 5,  0,  4,  6,  4,  4],\n",
       "        [ 9, 23, 15,  7, 25,  7],\n",
       "        [18, 19,  1, 22, 18, 10],\n",
       "        [12, 12,  8,  2,  7, 13]])"
      ]
     },
     "execution_count": 34,
     "metadata": {},
     "output_type": "execute_result"
    }
   ],
   "source": [
    "import numpy as np\n",
    "\n",
    "m1=np.matrix(np.random.randint(0,10,(5,6)))\n",
    "m2=np.matrix(np.random.randint(0,20,(5,6)))\n",
    "np.add(m1,m2)\n"
   ]
  },
  {
   "cell_type": "code",
   "execution_count": null,
   "metadata": {},
   "outputs": [],
   "source": [
    "#Write a Python Program to Multiply Two Matrices?"
   ]
  },
  {
   "cell_type": "code",
   "execution_count": 30,
   "metadata": {},
   "outputs": [
    {
     "data": {
      "text/plain": [
       "matrix([[248, 162, 238, 119, 169],\n",
       "        [468, 439, 396, 291, 336],\n",
       "        [419, 335, 358, 212, 315],\n",
       "        [436, 377, 336, 157, 262],\n",
       "        [329, 237, 308, 169, 196]])"
      ]
     },
     "execution_count": 30,
     "metadata": {},
     "output_type": "execute_result"
    }
   ],
   "source": [
    "import numpy as np\n",
    "\n",
    "m1=np.matrix(np.random.randint(0,10,(5,6)))\n",
    "m2=np.matrix(np.random.randint(0,20,(6,5)))\n",
    "#np.multiply(m1,m2)\n",
    "m1@m2\n"
   ]
  },
  {
   "cell_type": "code",
   "execution_count": null,
   "metadata": {},
   "outputs": [],
   "source": [
    "#Write a Python Program to Transpose a Matrix?"
   ]
  },
  {
   "cell_type": "code",
   "execution_count": 37,
   "metadata": {},
   "outputs": [
    {
     "name": "stdout",
     "output_type": "stream",
     "text": [
      "[[8 8 6 3 3 6]\n",
      " [4 0 4 2 1 1]\n",
      " [0 6 0 6 7 2]\n",
      " [3 0 1 3 8 9]\n",
      " [6 6 3 0 7 5]] \n",
      "\n",
      "\n",
      " [[8 4 0 3 6]\n",
      " [8 0 6 0 6]\n",
      " [6 4 0 1 3]\n",
      " [3 2 6 3 0]\n",
      " [3 1 7 8 7]\n",
      " [6 1 2 9 5]]\n"
     ]
    }
   ],
   "source": [
    "m3=np.transpose(m1)\n",
    "print(m1,\"\\n\")\n",
    "print(\"\\n\",m3)"
   ]
  },
  {
   "cell_type": "code",
   "execution_count": null,
   "metadata": {},
   "outputs": [],
   "source": [
    "#Write a Python Program to Sort Words in Alphabetic Order?"
   ]
  },
  {
   "cell_type": "code",
   "execution_count": 2,
   "metadata": {},
   "outputs": [
    {
     "name": "stdout",
     "output_type": "stream",
     "text": [
      "Enter the words to sort ['q'-->QUIT]suriya\n",
      "Enter the words to sort ['q'-->QUIT]narayanan\n",
      "Enter the words to sort ['q'-->QUIT]perumal\n",
      "Enter the words to sort ['q'-->QUIT]guna\n",
      "Enter the words to sort ['q'-->QUIT]vikram\n",
      "Enter the words to sort ['q'-->QUIT]karthi\n",
      "Enter the words to sort ['q'-->QUIT]kaviya\n",
      "Enter the words to sort ['q'-->QUIT]q\n",
      "['guna', 'karthi', 'kaviya', 'narayanan', 'perumal', 'suriya', 'vikram']\n"
     ]
    }
   ],
   "source": [
    "class Sort:\n",
    "    def receive(self):\n",
    "        words=[]\n",
    "        \n",
    "        while(True):\n",
    "            word=input(\"Enter the words to sort ['q'-->QUIT]\")\n",
    "            if word=='q' or word=='Q':\n",
    "                break\n",
    "            else:\n",
    "                words.append(word)            \n",
    "        self.put_words(words)\n",
    "        \n",
    "                \n",
    "    def put_words(self,words):        \n",
    "        \n",
    "        words.sort()\n",
    "        print(words)\n",
    "        \n",
    "        \n",
    "        \n",
    "\n",
    "s=Sort()\n",
    "s.receive()\n",
    "            "
   ]
  },
  {
   "cell_type": "code",
   "execution_count": null,
   "metadata": {},
   "outputs": [],
   "source": [
    "#Write a Python Program to Remove Punctuation From a String?"
   ]
  },
  {
   "cell_type": "code",
   "execution_count": 25,
   "metadata": {},
   "outputs": [
    {
     "name": "stdout",
     "output_type": "stream",
     "text": [
      "Enter a string with punctuation [q to quit]sur:;\"'.,!iya\n",
      "Name after removing the punctuation suriya\n"
     ]
    }
   ],
   "source": [
    "class Remove_Punctuation:\n",
    "    def __init__(self):\n",
    "        self.name=input(\"Enter a string with punctuation [q to quit]\")\n",
    "        if name=='q' or name==\"Q\":\n",
    "            pass\n",
    "        else:\n",
    "            self.replace_punctuation()\n",
    "    \n",
    "    def replace_punctuation(self):\n",
    "        pun=[\".\",\",\",\"!\",\"'\",\"\\\"\",\":\",\";\"]\n",
    "        for i in range(0,len(pun)):\n",
    "            if pun[i] in self.name:\n",
    "                self.name=self.name.replace(pun[i],\"\")\n",
    "        print(f\"Name after removing the punctuation {self.name}\")\n",
    "        \n",
    "\n",
    "\n",
    "name=\"su..,\\\"\\\"''!\\\"riya\"\n",
    "r=Remove_Punctuation()\n"
   ]
  },
  {
   "cell_type": "code",
   "execution_count": null,
   "metadata": {},
   "outputs": [],
   "source": []
  }
 ],
 "metadata": {
  "kernelspec": {
   "display_name": "Python 3 (ipykernel)",
   "language": "python",
   "name": "python3"
  },
  "language_info": {
   "codemirror_mode": {
    "name": "ipython",
    "version": 3
   },
   "file_extension": ".py",
   "mimetype": "text/x-python",
   "name": "python",
   "nbconvert_exporter": "python",
   "pygments_lexer": "ipython3",
   "version": "3.9.13"
  }
 },
 "nbformat": 4,
 "nbformat_minor": 2
}
