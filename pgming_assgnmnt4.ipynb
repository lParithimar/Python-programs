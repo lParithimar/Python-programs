{
 "cells": [
  {
   "cell_type": "code",
   "execution_count": 1,
   "id": "10410e19",
   "metadata": {},
   "outputs": [
    {
     "name": "stdout",
     "output_type": "stream",
     "text": [
      "Enter a no to find factorial [q to quit]5\n",
      "factorial of 5 is 120\n",
      "Enter a no to find factorial [q to quit]10\n",
      "factorial of 10 is 3628800\n",
      "Enter a no to find factorial [q to quit]q\n"
     ]
    }
   ],
   "source": [
    "#1. Write a Python Program to Find the Factorial of a Number?\n",
    "while True:\n",
    "    fact = 1\n",
    "    n = input(\"Enter a no to find factorial [q to quit]\")\n",
    "    if n in ['q', 'Q']:\n",
    "        break\n",
    "    else:\n",
    "        try:\n",
    "            n = int(float(n))\n",
    "            for i in range(1,n+1):\n",
    "                fact = fact*i\n",
    "            print(f\"factorial of {n} is {fact}\")\n",
    "        except ValueError as ve:\n",
    "            print(\"from ve  \",ve)\n",
    "        except Exception as e:\n",
    "            print(e)\n"
   ]
  },
  {
   "cell_type": "code",
   "execution_count": 2,
   "id": "a535c8e0",
   "metadata": {},
   "outputs": [
    {
     "name": "stdout",
     "output_type": "stream",
     "text": [
      "Enter a no [q to quit]2\n",
      "1 x 2 = 2\n",
      "2 x 2 = 4\n",
      "3 x 2 = 6\n",
      "4 x 2 = 8\n",
      "5 x 2 = 10\n",
      "6 x 2 = 12\n",
      "7 x 2 = 14\n",
      "8 x 2 = 16\n",
      "9 x 2 = 18\n",
      "10 x 2 = 20\n",
      "11 x 2 = 22\n",
      "12 x 2 = 24\n",
      "13 x 2 = 26\n",
      "14 x 2 = 28\n",
      "15 x 2 = 30\n",
      "16 x 2 = 32\n",
      "17 x 2 = 34\n",
      "18 x 2 = 36\n",
      "19 x 2 = 38\n",
      "20 x 2 = 40\n",
      "Enter a no [q to quit]q\n"
     ]
    }
   ],
   "source": [
    "#2.Write a Python Program to Display the multiplication Table?\n",
    "\n",
    "while True:\n",
    "    n = input(\"Enter a no [q to quit]\")\n",
    "    if n in ['q', 'Q']:\n",
    "        break\n",
    "\n",
    "    else:\n",
    "        try:\n",
    "            n=int(float(n))\n",
    "            j = 1\n",
    "            for i in range(1, 21):\n",
    "                mul = i * n\n",
    "                print(f\"{i} x {n} = {mul}\")\n",
    "\n",
    "        except ValueError as ve:\n",
    "            print(ve)\n",
    "\n",
    "        except Exception as e:\n",
    "            print(e)"
   ]
  },
  {
   "cell_type": "code",
   "execution_count": 4,
   "id": "fb7684ee",
   "metadata": {},
   "outputs": [
    {
     "name": "stdout",
     "output_type": "stream",
     "text": [
      "Enter a no for fibonacci series or [q to quit] 5\n",
      "0\t1\t1\t2\t3\tEnter a no for fibonacci series or [q to quit] q\n"
     ]
    }
   ],
   "source": [
    "#3.Write a Python Program to Print the Fibonacci sequence?\n",
    "\n",
    "while True:\n",
    "    n = input(\"Enter a no for fibonacci series or [q to quit] \")\n",
    "    if n in ['q', 'Q']:\n",
    "        break\n",
    "\n",
    "    else:\n",
    "        try:\n",
    "            fib=1\n",
    "            pre=0\n",
    "            n=int(float(n))\n",
    "            print(pre,end='\\t')\n",
    "            for i in range(2, n+1):\n",
    "                print(f\"{fib}\", end=\"\\t\")\n",
    "                t=fib\n",
    "                fib=fib+pre\n",
    "                pre=t\n",
    "\n",
    "        except ValueError as ve:\n",
    "            print(ve)\n",
    "\n",
    "        except Exception as e:\n",
    "            print(e)"
   ]
  },
  {
   "cell_type": "code",
   "execution_count": 5,
   "id": "d5d8a921",
   "metadata": {},
   "outputs": [
    {
     "name": "stdout",
     "output_type": "stream",
     "text": [
      "Enter a no [q to quit]1\n",
      "1 is a armstrong no\n",
      "Enter a no [q to quit]153\n",
      "153 is a armstrong no\n",
      "Enter a no [q to quit]2\n",
      "2 is not a armstrong no\n",
      "Enter a no [q to quit]q\n"
     ]
    }
   ],
   "source": [
    "#4. Write a Python Program to Check Armstrong Number?\n",
    "\n",
    "while True:\n",
    "    n = input(\"Enter a no [q to quit]\")\n",
    "    if n in ['q', 'Q']:\n",
    "        break\n",
    "\n",
    "    else:\n",
    "        try:\n",
    "            n = int(float(n))\n",
    "            no = n\n",
    "            arm = 0\n",
    "            while no > 0:\n",
    "                t = no % 10\n",
    "                t = t**3\n",
    "                arm += t\n",
    "                no = no // 10\n",
    "            if arm==n:\n",
    "                print(f\"{n} is a armstrong no\")\n",
    "            else:\n",
    "                print(f\"{n} is not a armstrong no\")\n",
    "\n",
    "        except ValueError as ve:\n",
    "            print(ve)\n",
    "\n",
    "        except Exception as e:\n",
    "            print(e)"
   ]
  },
  {
   "cell_type": "code",
   "execution_count": 6,
   "id": "37caed4e",
   "metadata": {},
   "outputs": [
    {
     "name": "stdout",
     "output_type": "stream",
     "text": [
      "Enter a min no [q to quit]1\n",
      "Enter a max no [q to quit]407\n",
      "armstrong nos in the interval 1 and 407 are [1, 153, 370, 371, 407]\n",
      "Enter a min no [q to quit]q\n",
      "Enter a max no [q to quit]q\n"
     ]
    }
   ],
   "source": [
    "#5. Write a Python Program to Find Armstrong Number in an Interval?\n",
    "\n",
    "while True:\n",
    "    min = input(\"Enter a min no [q to quit]\")\n",
    "    max = input(\"Enter a max no [q to quit]\")\n",
    "    if min in ['q', 'Q']:\n",
    "        break\n",
    "    if max in ['q', 'Q']:\n",
    "        break\n",
    "    else:\n",
    "        try:\n",
    "            armstrong=[]\n",
    "            not_armstrong=[]\n",
    "            min = int(float(min))\n",
    "            max = int(float(max))\n",
    "\n",
    "            for no in range(min, max+1):\n",
    "                arm = 0\n",
    "                no1=no\n",
    "                while no1 > 0:\n",
    "                    t = no1 % 10\n",
    "                    t = t**3\n",
    "                    arm += t\n",
    "                    no1 = no1 // 10\n",
    "                if arm==no:\n",
    "                    armstrong.append(no)\n",
    "                #else:\n",
    "                  #  not_armstrong.append(no)\n",
    "            print(f\"armstrong nos in the interval {min} and {max} are {armstrong}\")\n",
    "            #print(f\"not armstrong nos in the interval {min} and {max} are {not_armstrong}\")\n",
    "\n",
    "        except ValueError as ve:\n",
    "            print(ve)\n",
    "\n",
    "        except Exception as e:\n",
    "            print(e) "
   ]
  },
  {
   "cell_type": "code",
   "execution_count": 8,
   "id": "a3537553",
   "metadata": {},
   "outputs": [
    {
     "name": "stdout",
     "output_type": "stream",
     "text": [
      "Enter a no [q to quit]10\n",
      "The sum of natural no upto 10 is 55\n",
      "Enter a no [q to quit]100\n",
      "The sum of natural no upto 100 is 5050\n",
      "Enter a no [q to quit]q\n"
     ]
    }
   ],
   "source": [
    "#6. Write a Python Program to Find the Sum of Natural Numbers?\n",
    "\n",
    "\n",
    "while True:\n",
    "    no=input(\"Enter a no [q to quit]\")\n",
    "    if no in ['q', 'Q']:\n",
    "        break\n",
    "    else:\n",
    "        try:\n",
    "            no = int(float(no))\n",
    "            sum=0\n",
    "            for i in range(1,no+1):\n",
    "                sum=sum+i\n",
    "            print(f\"The sum of natural no upto {no} is {sum}\")\n",
    "        except ValueError as ve:\n",
    "            print(ve)\n",
    "\n",
    "        except Exception as e:\n",
    "            print(e)\n"
   ]
  },
  {
   "cell_type": "code",
   "execution_count": null,
   "id": "fd7e3cb7",
   "metadata": {},
   "outputs": [],
   "source": []
  }
 ],
 "metadata": {
  "kernelspec": {
   "display_name": "Python 3 (ipykernel)",
   "language": "python",
   "name": "python3"
  },
  "language_info": {
   "codemirror_mode": {
    "name": "ipython",
    "version": 3
   },
   "file_extension": ".py",
   "mimetype": "text/x-python",
   "name": "python",
   "nbconvert_exporter": "python",
   "pygments_lexer": "ipython3",
   "version": "3.9.13"
  }
 },
 "nbformat": 4,
 "nbformat_minor": 5
}
